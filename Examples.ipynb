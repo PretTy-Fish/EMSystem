{
 "cells": [
  {
   "cell_type": "markdown",
   "metadata": {},
   "source": [
    "## Definitions and Libraries for Electromagnetic System"
   ]
  },
  {
   "cell_type": "code",
   "execution_count": null,
   "metadata": {},
   "outputs": [],
   "source": [
    "from emsystem_gpu import *\n",
    "import numpy as np\n",
    "import math\n",
    "from numba import cuda\n",
    "from IPython.display import display, HTML, Image"
   ]
  },
  {
   "cell_type": "markdown",
   "metadata": {},
   "source": [
    "## Propagation of a Plane Electromagnetic Pulse"
   ]
  },
  {
   "cell_type": "code",
   "execution_count": null,
   "metadata": {},
   "outputs": [],
   "source": [
    "@cuda.jit\n",
    "def fupdater(shape, x, y, z, t, Ex, Ey, Ez):\n",
    "    j, k = cuda.grid(2)\n",
    "    if j < shape[1] and k < shape[2] and 1e10*t < 12: # leftmost\n",
    "        Ex[50,j,k] = 0\n",
    "        Ey[50,j,k] = 0\n",
    "        Ez[50,j,k] = 2.5e3 * math.exp(-(1e10*t - 6)**2) # gaussian pulse\n",
    "\n",
    "# update function\n",
    "def f(state, system):\n",
    "    thread_ct = (32, 32)\n",
    "    block_ct_y = int(math.ceil(float(system.shape[1]) / thread_ct[0]))\n",
    "    block_ct_z = int(math.ceil(float(system.shape[2]) / thread_ct[1]))\n",
    "    block_ct = (block_ct_y, block_ct_z)\n",
    "    fupdater[block_ct, thread_ct](system.shape, system.x, system.y, system.z, system.time[-1], state.Ex, state.Ey, state.Ez)\n",
    "\n",
    "space1 = EMSystem(0.002, 0.005, 0.005, [-0.1,0.1], [-0.02,0.02], [-0.02,0.02], init=f)\n",
    "space1.Update((1.0e-11)/6, 2e-9, 150, f, space1)"
   ]
  },
  {
   "cell_type": "code",
   "execution_count": null,
   "metadata": {},
   "outputs": [],
   "source": [
    "# plot state\n",
    "index = 60\n",
    "plot = space1.PlotState(space1.states[index], fields={'E': 1e-5, 'B': 1e3}, title=f'State at t = {space1.time[index]:.3} s', resolution=[50,5,5])\n",
    "plt.savefig('plane-pulse-propagation-1-gpu.png')"
   ]
  },
  {
   "cell_type": "code",
   "execution_count": null,
   "metadata": {},
   "outputs": [],
   "source": [
    "# animate\n",
    "name = 'plane-pulse-propagation-gpu'\n",
    "space1.AnimateEvolution(fields={'E': 1e-5, 'B': 1e3}, fps=30, resolution=[50,5,5], animname=name)\n",
    "Image(url=f'{name}.gif')"
   ]
  },
  {
   "cell_type": "markdown",
   "metadata": {},
   "source": [
    "## Reflection of Electromagentic Pulse on Other Material"
   ]
  },
  {
   "cell_type": "code",
   "execution_count": null,
   "metadata": {},
   "outputs": [],
   "source": [
    "@cuda.jit\n",
    "def fupdater(shape, x, y, z, t, Ex, Ey, Ez):\n",
    "    j, k = cuda.grid(2)\n",
    "    if j < shape[1] and k < shape[2] and 1e10*t < 12: # leftmost\n",
    "        Ex[0,j,k] = 0\n",
    "        Ey[0,j,k] = 0\n",
    "        Ez[0,j,k] = 2.5e3 * math.exp(-(1e10*t - 6)**2) # gaussian pulse\n",
    "\n",
    "# update function\n",
    "def f(state, system):\n",
    "    thread_ct = (32, 32)\n",
    "    block_ct_y = int(math.ceil(float(system.shape[1]) / thread_ct[0]))\n",
    "    block_ct_z = int(math.ceil(float(system.shape[2]) / thread_ct[1]))\n",
    "    block_ct = (block_ct_y, block_ct_z)\n",
    "    fupdater[block_ct, thread_ct](system.shape, system.x, system.y, system.z, system.time[-1], state.Ex, state.Ey, state.Ez)\n",
    "\n",
    "# modeller of iron\n",
    "@cuda.jit\n",
    "def iron_modeller(x, y, z, epsilon_x, epsilon_y, epsilon_z, mu_x, mu_y, mu_z, sigma_x, sigma_y, sigma_z):\n",
    "    i, j, k = cuda.grid(3)\n",
    "    if i < len(x) and j < len(y) and k < len(z) and x[i] > 0.05:\n",
    "        epsilon_x[i,j,k] = 178.42\n",
    "        epsilon_y[i,j,k] = 178.42\n",
    "        epsilon_z[i,j,k] = 178.42\n",
    "        mu_x[i,j,k] = 5e-3\n",
    "        mu_y[i,j,k] = 5e-3\n",
    "        mu_z[i,j,k] = 5e-3\n",
    "        sigma_x[i,j,k] = 1e7\n",
    "        sigma_y[i,j,k] = 1e7\n",
    "        sigma_z[i,j,k] = 1e7\n",
    "\n",
    "# Visualizer of iron\n",
    "def iron_visual(fig, ax):\n",
    "    color = 'black'\n",
    "    ax.plot([0.05,0.05,0.05,0.05,0.05], [-0.02,-0.02,0.02,0.02,-0.02], [-0.02,0.02,0.02,-0.02,-0.02], color=color)\n",
    "\n",
    "iron = EMModel('iron', iron_modeller, iron_visual)\n",
    "space2 = EMSystem(0.002, 0.005, 0.005, [-0.1,0.1], [-0.02,0.02], [-0.02,0.02], models=[iron], init=f)\n",
    "space2.Update((1.0e-11)/6, 2e-9, 150, f, space2)"
   ]
  },
  {
   "cell_type": "code",
   "execution_count": null,
   "metadata": {},
   "outputs": [],
   "source": [
    "# plot state\n",
    "index = 75\n",
    "plot = space2.PlotState(space2.states[index], fields={'E': 1e-5, 'B': 1e3}, title=f'State at t = {space2.time[index]:.3} s', resolution=[50,5,5])\n",
    "plt.savefig('plane-pulse-reflection-1-gpu.png')"
   ]
  },
  {
   "cell_type": "code",
   "execution_count": null,
   "metadata": {},
   "outputs": [],
   "source": [
    "# animate\n",
    "name = 'plane-pulse-reflection-gpu'\n",
    "space2.AnimateEvolution(fields={'E': 1e-5, 'B': 1e3}, fps=30, resolution=[50,5,5], animname=name)\n",
    "Image(url=f'{name}.gif')"
   ]
  },
  {
   "cell_type": "markdown",
   "metadata": {},
   "source": [
    "## Propagation of a Point Electromagnetic Pulse"
   ]
  },
  {
   "cell_type": "code",
   "execution_count": null,
   "metadata": {},
   "outputs": [],
   "source": [
    "def fupdater(shape, x, y, z, t, Ex, Ey, Ez):\n",
    "    Ex[20,20,20] = 0\n",
    "    Ey[20,20,20] = 0\n",
    "    Ez[20,20,20] = 2.5e3 * math.exp(-(1e10*t - 6)**2) # gaussian pulse\n",
    "\n",
    "# update function\n",
    "def f(state, system):\n",
    "    fupdater(system.shape, system.x, system.y, system.z, system.time[-1], state.Ex, state.Ey, state.Ez)\n",
    "\n",
    "space3 = EMSystem(0.005, 0.005, 0.005, [-0.1,0.1], [-0.1,0.1], [-0.1,0.1], init=f)\n",
    "space3.Update((1.0e-11)/6, 2e-9, 150, f, space3)"
   ]
  },
  {
   "cell_type": "code",
   "execution_count": null,
   "metadata": {},
   "outputs": [],
   "source": [
    "# plot state\n",
    "index = 90\n",
    "plot = space3.PlotState(space3.states[index], fields={'E': 1e-3, 'B': 1e5}, title=f'State at t = {space3.time[index]:.3} s', resolution=[20,20,20])\n",
    "plt.savefig('point-pulse-propagation-gpu.png')"
   ]
  },
  {
   "cell_type": "code",
   "execution_count": null,
   "metadata": {},
   "outputs": [],
   "source": [
    "# animate\n",
    "name = 'point-pulse-propagation-gpu'\n",
    "space3.AnimateEvolution(fields={'E': 1e-3, 'B': 1e5}, fps=30, resolution=[20,20,20], animname=name)\n",
    "Image(url=f'{name}.gif')"
   ]
  }
 ],
 "metadata": {
  "kernelspec": {
   "display_name": "Python 3.7.6 64-bit ('Physics': conda)",
   "language": "python",
   "name": "python37664bitphysicsconda6a04b1b3f1ee47338cd14a187093f860"
  },
  "language_info": {
   "codemirror_mode": {
    "name": "ipython",
    "version": 3
   },
   "file_extension": ".py",
   "mimetype": "text/x-python",
   "name": "python",
   "nbconvert_exporter": "python",
   "pygments_lexer": "ipython3",
   "version": "3.7.6"
  }
 },
 "nbformat": 4,
 "nbformat_minor": 4
}
